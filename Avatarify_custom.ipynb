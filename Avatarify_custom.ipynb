{
  "nbformat": 4,
  "nbformat_minor": 0,
  "metadata": {
    "colab": {
      "provenance": [],
      "gpuType": "T4"
    },
    "kernelspec": {
      "name": "python3",
      "display_name": "Python 3"
    },
    "language_info": {
      "name": "python"
    },
    "accelerator": "GPU"
  },
  "cells": [
    {
      "cell_type": "code",
      "execution_count": 1,
      "metadata": {
        "colab": {
          "base_uri": "https://localhost:8080/"
        },
        "id": "nvhNKawwUD1a",
        "outputId": "e3e51374-adee-4ce8-f115-8971fc207793"
      },
      "outputs": [
        {
          "output_type": "stream",
          "name": "stdout",
          "text": [
            "Cloning into '/content/avatarify'...\n",
            "remote: Enumerating objects: 1514, done.\u001b[K\n",
            "remote: Total 1514 (delta 0), reused 0 (delta 0), pack-reused 1514 (from 1)\u001b[K\n",
            "Receiving objects: 100% (1514/1514), 5.69 MiB | 22.75 MiB/s, done.\n",
            "Resolving deltas: 100% (967/967), done.\n",
            "/content/avatarify\n",
            "Cloning into 'fomm'...\n",
            "remote: Enumerating objects: 211, done.\u001b[K\n",
            "remote: Total 211 (delta 0), reused 0 (delta 0), pack-reused 211 (from 1)\u001b[K\n",
            "Receiving objects: 100% (211/211), 58.16 MiB | 14.83 MiB/s, done.\n",
            "Resolving deltas: 100% (108/108), done.\n",
            "Collecting face-alignment==1.0.0\n",
            "  Downloading face_alignment-1.0.0-py2.py3-none-any.whl.metadata (6.7 kB)\n",
            "Collecting msgpack_numpy\n",
            "  Downloading msgpack_numpy-0.4.8-py2.py3-none-any.whl.metadata (5.0 kB)\n",
            "Collecting pyyaml==6.0.1\n",
            "  Downloading PyYAML-6.0.1-cp310-cp310-manylinux_2_17_x86_64.manylinux2014_x86_64.whl.metadata (2.1 kB)\n",
            "Requirement already satisfied: torch in /usr/local/lib/python3.10/dist-packages (from face-alignment==1.0.0) (2.5.1+cu121)\n",
            "Requirement already satisfied: numpy in /usr/local/lib/python3.10/dist-packages (from face-alignment==1.0.0) (1.26.4)\n",
            "Requirement already satisfied: scipy>=0.17 in /usr/local/lib/python3.10/dist-packages (from face-alignment==1.0.0) (1.13.1)\n",
            "Requirement already satisfied: scikit-image in /usr/local/lib/python3.10/dist-packages (from face-alignment==1.0.0) (0.25.0)\n",
            "Requirement already satisfied: opencv-python in /usr/local/lib/python3.10/dist-packages (from face-alignment==1.0.0) (4.10.0.84)\n",
            "Requirement already satisfied: tqdm in /usr/local/lib/python3.10/dist-packages (from face-alignment==1.0.0) (4.67.1)\n",
            "Requirement already satisfied: msgpack>=0.5.2 in /usr/local/lib/python3.10/dist-packages (from msgpack_numpy) (1.1.0)\n",
            "Requirement already satisfied: networkx>=3.0 in /usr/local/lib/python3.10/dist-packages (from scikit-image->face-alignment==1.0.0) (3.4.2)\n",
            "Requirement already satisfied: pillow>=10.1 in /usr/local/lib/python3.10/dist-packages (from scikit-image->face-alignment==1.0.0) (11.0.0)\n",
            "Requirement already satisfied: imageio!=2.35.0,>=2.33 in /usr/local/lib/python3.10/dist-packages (from scikit-image->face-alignment==1.0.0) (2.36.1)\n",
            "Requirement already satisfied: tifffile>=2022.8.12 in /usr/local/lib/python3.10/dist-packages (from scikit-image->face-alignment==1.0.0) (2024.12.12)\n",
            "Requirement already satisfied: packaging>=21 in /usr/local/lib/python3.10/dist-packages (from scikit-image->face-alignment==1.0.0) (24.2)\n",
            "Requirement already satisfied: lazy-loader>=0.4 in /usr/local/lib/python3.10/dist-packages (from scikit-image->face-alignment==1.0.0) (0.4)\n",
            "Requirement already satisfied: filelock in /usr/local/lib/python3.10/dist-packages (from torch->face-alignment==1.0.0) (3.16.1)\n",
            "Requirement already satisfied: typing-extensions>=4.8.0 in /usr/local/lib/python3.10/dist-packages (from torch->face-alignment==1.0.0) (4.12.2)\n",
            "Requirement already satisfied: jinja2 in /usr/local/lib/python3.10/dist-packages (from torch->face-alignment==1.0.0) (3.1.4)\n",
            "Requirement already satisfied: fsspec in /usr/local/lib/python3.10/dist-packages (from torch->face-alignment==1.0.0) (2024.10.0)\n",
            "Requirement already satisfied: sympy==1.13.1 in /usr/local/lib/python3.10/dist-packages (from torch->face-alignment==1.0.0) (1.13.1)\n",
            "Requirement already satisfied: mpmath<1.4,>=1.1.0 in /usr/local/lib/python3.10/dist-packages (from sympy==1.13.1->torch->face-alignment==1.0.0) (1.3.0)\n",
            "Requirement already satisfied: MarkupSafe>=2.0 in /usr/local/lib/python3.10/dist-packages (from jinja2->torch->face-alignment==1.0.0) (3.0.2)\n",
            "Downloading face_alignment-1.0.0-py2.py3-none-any.whl (22 kB)\n",
            "Downloading PyYAML-6.0.1-cp310-cp310-manylinux_2_17_x86_64.manylinux2014_x86_64.whl (705 kB)\n",
            "\u001b[2K   \u001b[90m━━━━━━━━━━━━━━━━━━━━━━━━━━━━━━━━━━━━━━━━\u001b[0m \u001b[32m705.5/705.5 kB\u001b[0m \u001b[31m19.9 MB/s\u001b[0m eta \u001b[36m0:00:00\u001b[0m\n",
            "\u001b[?25hDownloading msgpack_numpy-0.4.8-py2.py3-none-any.whl (6.9 kB)\n",
            "Installing collected packages: pyyaml, msgpack_numpy, face-alignment\n",
            "  Attempting uninstall: pyyaml\n",
            "    Found existing installation: PyYAML 6.0.2\n",
            "    Uninstalling PyYAML-6.0.2:\n",
            "      Successfully uninstalled PyYAML-6.0.2\n",
            "Successfully installed face-alignment-1.0.0 msgpack_numpy-0.4.8 pyyaml-6.0.1\n",
            "  % Total    % Received % Xferd  Average Speed   Time    Time     Time  Current\n",
            "                                 Dload  Upload   Total   Spent    Left  Speed\n",
            "100  228M  100  228M    0     0   185M      0  0:00:01  0:00:01 --:--:--  185M\n",
            "Expected checksum: 8a45a24037871c045fbb8a6a8aa95ebc\n",
            "Found checksum:    8a45a24037871c045fbb8a6a8aa95ebc  vox-adv-cpk.pth.tar\n",
            "ngrok is not found, installing...\n",
            "Done!\n",
            "root         980 51.0  2.6 2920468 349116 ?      Dl   10:59   0:01 python3 afy/cam_fomm.py --config \n",
            "Worker started\n"
          ]
        }
      ],
      "source": [
        "# Set up environment\n",
        "!rm -rf /content/avatarify\n",
        "!git clone https://github.com/alievk/avatarify.git /content/avatarify\n",
        "%cd /content/avatarify\n",
        "\n",
        "# Clone first-order-model into fomm directory\n",
        "!git clone https://github.com/alievk/first-order-model.git fomm\n",
        "!pip install face-alignment==1.0.0 msgpack_numpy pyyaml==6.0.1\n",
        "\n",
        "# Run download_data.sh script\n",
        "!bash /content/avatarify/scripts/download_data.sh\n",
        "\n",
        "# Download ngrok\n",
        "!bash /content/avatarify/scripts/get_ngrok.sh\n",
        "\n",
        "# Import libraries for subprocess and tunneling\n",
        "from subprocess import Popen, PIPE\n",
        "import shlex\n",
        "import json\n",
        "import time\n",
        "\n",
        "def run_with_pipe(command):\n",
        "    commands = list(map(shlex.split, command.split(\"|\")))\n",
        "    ps = Popen(commands[0], stdout=PIPE, stderr=PIPE)\n",
        "    for command in commands[1:]:\n",
        "        ps = Popen(command, stdin=ps.stdout, stdout=PIPE, stderr=PIPE)\n",
        "    return ps.stdout.readlines()\n",
        "\n",
        "def get_tunnel_addresses():\n",
        "    info = run_with_pipe(\"curl http://localhost:4040/api/tunnels\")\n",
        "    assert info, \"Ngrok API did not return tunnel information.\"\n",
        "\n",
        "    info = json.loads(info[0])\n",
        "    for tunnel in info['tunnels']:\n",
        "        url = tunnel['public_url']\n",
        "        local_port = tunnel['config']['addr'].split(':')[-1]\n",
        "        print(f\"{url} -> {local_port} [{tunnel['name']}]\")\n",
        "        if tunnel['name'] == 'input':\n",
        "            in_addr = url\n",
        "        elif tunnel['name'] == 'output':\n",
        "            out_addr = url\n",
        "        else:\n",
        "            print(f\"Unknown tunnel: {tunnel['name']}\")\n",
        "    return in_addr, out_addr\n",
        "\n",
        "# Ports for communication\n",
        "local_in_port = 5557\n",
        "local_out_port = 5558\n",
        "\n",
        "# (Re)Start the worker\n",
        "with open('/tmp/run.txt', 'w') as f:\n",
        "    ps = Popen(\n",
        "        shlex.split(f'./run.sh --is-worker --in-port {local_in_port} --out-port {local_out_port} --no-vcam --no-conda'),\n",
        "        stdout=f, stderr=f)\n",
        "    time.sleep(3)\n",
        "\n",
        "# Check if the worker started successfully\n",
        "!ps aux | grep 'python3 afy/cam_fomm.py' | grep -v grep | tee /tmp/ps_run\n",
        "!if [[ $(cat /tmp/ps_run | wc -l) == \"0\" ]]; then echo \"Worker failed to start\"; cat /tmp/run.txt; else echo \"Worker started\"; fi\n",
        "\n",
        "# Ngrok configuration\n",
        "authtoken = \"2lHonZt28OAyPMg9jBfW4GVjqvU_2o78F19ASnihf8368N6Ug\"\n",
        "region = \"eu\"\n",
        "\n",
        "config = f\"\"\"\n",
        "version: 2\n",
        "authtoken: {authtoken}\n",
        "region: {region}\n",
        "console_ui: False\n",
        "tunnels:\n",
        "  input:\n",
        "    addr: {local_in_port}\n",
        "    proto: tcp\n",
        "  output:\n",
        "    addr: {local_out_port}\n",
        "    proto: tcp\n",
        "\"\"\"\n",
        "\n",
        "# Write ngrok configuration\n",
        "with open('/content/avatarify/ngrok.conf', 'w') as f:\n",
        "    f.write(config)"
      ]
    },
    {
      "cell_type": "code",
      "source": [
        "%%writefile /content/avatarify/scripts/open_tunnel_ngrok.sh\n",
        "#!/usr/bin/env bash\n",
        "\n",
        "# Kill any existing ngrok processes\n",
        "pkill ngrok 2> /dev/null\n",
        "\n",
        "# Start ngrok with the specified configuration, detached from the current process\n",
        "echo \"Opening tunnel\"\n",
        "nohup ./ngrok start --all --config ngrok.conf > ngrok.log 2>&1 &\n",
        "\n",
        "\n"
      ],
      "metadata": {
        "colab": {
          "base_uri": "https://localhost:8080/"
        },
        "id": "uXl7Jvv6Wbrd",
        "outputId": "fae9ded5-270f-40a9-954f-2713e67b6309"
      },
      "execution_count": 2,
      "outputs": [
        {
          "output_type": "stream",
          "name": "stdout",
          "text": [
            "Overwriting /content/avatarify/scripts/open_tunnel_ngrok.sh\n"
          ]
        }
      ]
    },
    {
      "cell_type": "code",
      "source": [
        "!chmod +x /content/avatarify/scripts/open_tunnel_ngrok.sh\n",
        "!bash /content/avatarify/scripts/open_tunnel_ngrok.sh"
      ],
      "metadata": {
        "colab": {
          "base_uri": "https://localhost:8080/"
        },
        "id": "in_Mut-fYPol",
        "outputId": "eace772b-d141-4bce-9596-348ea711aae3"
      },
      "execution_count": 3,
      "outputs": [
        {
          "output_type": "stream",
          "name": "stdout",
          "text": [
            "Opening tunnel\n"
          ]
        }
      ]
    },
    {
      "cell_type": "code",
      "source": [
        "# Ensure ngrok is running and check tunnel status\n",
        "ps = Popen('./scripts/open_tunnel_ngrok.sh', stdout=PIPE, stderr=PIPE)\n",
        "time.sleep(5)\n",
        "\n",
        "# Fetch tunnel addresses with enhanced error handling\n",
        "try:\n",
        "    print(\"Attempting to get tunnel addresses...\")\n",
        "    in_addr, out_addr = get_tunnel_addresses()\n",
        "    print(\"Tunnel opened\")\n",
        "except AssertionError:\n",
        "    print(\"Ngrok tunnel did not start. Please check if ngrok is properly configured.\")\n",
        "except json.JSONDecodeError:\n",
        "    print(\"Error decoding JSON from ngrok. The ngrok service might not be returning the expected response.\")\n",
        "except Exception as e:\n",
        "    print(f\"Unexpected error: {e}\")\n",
        "    [print(l.decode(), end='') for l in ps.stdout.readlines()]\n",
        "    print(\"Something went wrong, reopen the tunnel.\")\n"
      ],
      "metadata": {
        "colab": {
          "base_uri": "https://localhost:8080/"
        },
        "id": "-TRny2UTVhJr",
        "outputId": "2af8e83a-79a7-40b7-88f6-4733fac1e8b9"
      },
      "execution_count": 4,
      "outputs": [
        {
          "output_type": "stream",
          "name": "stdout",
          "text": [
            "Attempting to get tunnel addresses...\n",
            "tcp://4.tcp.eu.ngrok.io:12053 -> 5558 [output]\n",
            "tcp://2.tcp.eu.ngrok.io:11622 -> 5557 [input]\n",
            "Tunnel opened\n"
          ]
        }
      ]
    },
    {
      "cell_type": "code",
      "source": [
        "# Connection instructions\n",
        "print('Copy-paste the appropriate command below and run it in your terminal:\\n')\n",
        "print(f'Mac:\\n ./run_mac.sh --is-client --in-addr {in_addr} --out-addr {out_addr}')\n",
        "print(f'Windows:\\n ./run_windows.bat --is-client --in-addr {in_addr} --out-addr {out_addr}')\n",
        "print(f'Linux:\\n ./run.sh --is-client --in-addr {in_addr} --out-addr {out_addr}')\n"
      ],
      "metadata": {
        "colab": {
          "base_uri": "https://localhost:8080/"
        },
        "id": "PlLFSCIEVqv_",
        "outputId": "6b475105-17b9-4c76-d986-37f65bc51c7a"
      },
      "execution_count": 5,
      "outputs": [
        {
          "output_type": "stream",
          "name": "stdout",
          "text": [
            "Copy-paste the appropriate command below and run it in your terminal:\n",
            "\n",
            "Mac:\n",
            " ./run_mac.sh --is-client --in-addr tcp://2.tcp.eu.ngrok.io:11622 --out-addr tcp://4.tcp.eu.ngrok.io:12053\n",
            "Windows:\n",
            " ./run_windows.bat --is-client --in-addr tcp://2.tcp.eu.ngrok.io:11622 --out-addr tcp://4.tcp.eu.ngrok.io:12053\n",
            "Linux:\n",
            " ./run.sh --is-client --in-addr tcp://2.tcp.eu.ngrok.io:11622 --out-addr tcp://4.tcp.eu.ngrok.io:12053\n"
          ]
        }
      ]
    }
  ]
}